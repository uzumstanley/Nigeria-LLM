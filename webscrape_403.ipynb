{
  "cells": [
    {
      "cell_type": "markdown",
      "metadata": {
        "id": "view-in-github",
        "colab_type": "text"
      },
      "source": [
        "<a href=\"https://colab.research.google.com/github/saheedniyi02/naijaweb/blob/main/webscrape_403.ipynb\" target=\"_parent\"><img src=\"https://colab.research.google.com/assets/colab-badge.svg\" alt=\"Open In Colab\"/></a>"
      ]
    },
    {
      "cell_type": "code",
      "execution_count": null,
      "metadata": {
        "colab": {
          "base_uri": "https://localhost:8080/"
        },
        "id": "vEUISbz-YFBD",
        "outputId": "b3c1c5a8-8c6f-409d-8306-ca7082d7816a"
      },
      "outputs": [
        {
          "output_type": "stream",
          "name": "stdout",
          "text": [
            "Collecting cloudscraper\n",
            "  Downloading cloudscraper-1.2.71-py2.py3-none-any.whl.metadata (19 kB)\n",
            "Requirement already satisfied: pyparsing>=2.4.7 in /usr/local/lib/python3.10/dist-packages (from cloudscraper) (3.1.4)\n",
            "Requirement already satisfied: requests>=2.9.2 in /usr/local/lib/python3.10/dist-packages (from cloudscraper) (2.32.3)\n",
            "Collecting requests-toolbelt>=0.9.1 (from cloudscraper)\n",
            "  Downloading requests_toolbelt-1.0.0-py2.py3-none-any.whl.metadata (14 kB)\n",
            "Requirement already satisfied: charset-normalizer<4,>=2 in /usr/local/lib/python3.10/dist-packages (from requests>=2.9.2->cloudscraper) (3.3.2)\n",
            "Requirement already satisfied: idna<4,>=2.5 in /usr/local/lib/python3.10/dist-packages (from requests>=2.9.2->cloudscraper) (3.10)\n",
            "Requirement already satisfied: urllib3<3,>=1.21.1 in /usr/local/lib/python3.10/dist-packages (from requests>=2.9.2->cloudscraper) (2.2.3)\n",
            "Requirement already satisfied: certifi>=2017.4.17 in /usr/local/lib/python3.10/dist-packages (from requests>=2.9.2->cloudscraper) (2024.8.30)\n",
            "Downloading cloudscraper-1.2.71-py2.py3-none-any.whl (99 kB)\n",
            "\u001b[2K   \u001b[90m━━━━━━━━━━━━━━━━━━━━━━━━━━━━━━━━━━━━━━━━\u001b[0m \u001b[32m99.7/99.7 kB\u001b[0m \u001b[31m4.2 MB/s\u001b[0m eta \u001b[36m0:00:00\u001b[0m\n",
            "\u001b[?25hDownloading requests_toolbelt-1.0.0-py2.py3-none-any.whl (54 kB)\n",
            "\u001b[2K   \u001b[90m━━━━━━━━━━━━━━━━━━━━━━━━━━━━━━━━━━━━━━━━\u001b[0m \u001b[32m54.5/54.5 kB\u001b[0m \u001b[31m3.3 MB/s\u001b[0m eta \u001b[36m0:00:00\u001b[0m\n",
            "\u001b[?25hInstalling collected packages: requests-toolbelt, cloudscraper\n",
            "Successfully installed cloudscraper-1.2.71 requests-toolbelt-1.0.0\n"
          ]
        }
      ],
      "source": [
        "pip install cloudscraper"
      ]
    },
    {
      "cell_type": "code",
      "execution_count": null,
      "metadata": {
        "id": "VndSEpPQWOB0"
      },
      "outputs": [],
      "source": [
        "import pandas as pd\n",
        "import os\n",
        "import cloudscraper\n",
        "from tqdm import tqdm\n",
        "import pickle"
      ]
    },
    {
      "cell_type": "code",
      "execution_count": null,
      "metadata": {
        "id": "_UvyXdibWg1_"
      },
      "outputs": [],
      "source": [
        "all_dfs = []\n",
        "for file in os.listdir(\"/content/drive/MyDrive/nairaland_webtext/403_dataset\"):\n",
        "  df = pd.read_csv(f\"/content/drive/MyDrive/nairaland_webtext/403_dataset/{file}\")\n",
        "  all_dfs.append(df)"
      ]
    },
    {
      "cell_type": "code",
      "execution_count": null,
      "metadata": {
        "id": "S6y3ye1AXKIZ"
      },
      "outputs": [],
      "source": [
        "data=pd.concat(all_dfs)"
      ]
    },
    {
      "cell_type": "code",
      "execution_count": null,
      "metadata": {
        "colab": {
          "base_uri": "https://localhost:8080/"
        },
        "id": "51BTuxEcbwoD",
        "outputId": "0028712e-a79b-4e4e-c630-f3430b8d9cbe"
      },
      "outputs": [
        {
          "output_type": "execute_result",
          "data": {
            "text/plain": [
              "(113344, 3)"
            ]
          },
          "metadata": {},
          "execution_count": 5
        }
      ],
      "source": [
        "data.shape"
      ]
    },
    {
      "cell_type": "code",
      "execution_count": null,
      "metadata": {
        "id": "wKsBbUdwXOOt"
      },
      "outputs": [],
      "source": [
        "links=data[\"url\"].to_list()"
      ]
    },
    {
      "cell_type": "code",
      "execution_count": null,
      "metadata": {
        "id": "CVdHTB5VXkj5"
      },
      "outputs": [],
      "source": [
        "\n",
        "scraper = cloudscraper.create_scraper(\n",
        "    browser={\n",
        "        'browser': 'chrome',\n",
        "        #'platform': 'android',\n",
        "        'desktop': True\n",
        "    }\n",
        ")"
      ]
    },
    {
      "cell_type": "code",
      "execution_count": null,
      "metadata": {
        "id": "yt-LexQ0YxAx"
      },
      "outputs": [],
      "source": [
        "def dl(url):\n",
        "    url = url.strip()\n",
        "    try:\n",
        "        resp=scraper.get(url)\n",
        "        if resp.status_code == 200:\n",
        "\n",
        "          return {\"text\":resp.text,\"url\":url,\"error\":200}\n",
        "\n",
        "        return {\"text\":resp.text,\"url\":url,\"error\":resp.status_code}\n",
        "\n",
        "    except Exception as e:\n",
        "        return {\"text\":\"\",\"url\":url,\"error\":str(e)}"
      ]
    },
    {
      "cell_type": "code",
      "execution_count": null,
      "metadata": {
        "id": "EvmLiMZUcKKI"
      },
      "outputs": [],
      "source": [
        "import multiprocessing as mp\n",
        "from concurrent.futures import ThreadPoolExecutor"
      ]
    },
    {
      "cell_type": "code",
      "source": [
        "links=links[:10000]"
      ],
      "metadata": {
        "id": "_3PjFj48I4Nc"
      },
      "execution_count": null,
      "outputs": []
    },
    {
      "cell_type": "code",
      "execution_count": null,
      "metadata": {
        "id": "a_4n2MAyaSF8"
      },
      "outputs": [],
      "source": [
        "batch_size=1000\n",
        "\n",
        "links_batched=[links[i:i+batch_size] for i in range(0,len(links),batch_size)]"
      ]
    },
    {
      "cell_type": "code",
      "source": [
        "len(links_batched)"
      ],
      "metadata": {
        "colab": {
          "base_uri": "https://localhost:8080/"
        },
        "id": "EpeYyrMkI_NS",
        "outputId": "cbfa2d58-ecef-410d-ebba-0d33f562f999"
      },
      "execution_count": null,
      "outputs": [
        {
          "output_type": "execute_result",
          "data": {
            "text/plain": [
              "10"
            ]
          },
          "metadata": {},
          "execution_count": 12
        }
      ]
    },
    {
      "cell_type": "code",
      "execution_count": null,
      "metadata": {
        "id": "iKbtwlRFZtWv"
      },
      "outputs": [],
      "source": [
        "def save_list(file_number, result_list):\n",
        "    with open(f'/content/drive/MyDrive/openweb_naij/403_webscraped/results_list{file_number}.pkl', 'wb') as f:\n",
        "        pickle.dump(result_list, f)"
      ]
    },
    {
      "cell_type": "code",
      "execution_count": null,
      "metadata": {
        "colab": {
          "base_uri": "https://localhost:8080/"
        },
        "id": "dvwf4qSfZUG1",
        "outputId": "c42081b6-bb6a-4da4-a599-fa0eb389b3d7"
      },
      "outputs": [
        {
          "output_type": "stream",
          "name": "stderr",
          "text": [
            "100%|██████████| 10000/10000 [1:41:11<00:00,  1.65it/s]\n"
          ]
        }
      ],
      "source": [
        "results=[]\n",
        "i=0\n",
        "for link in tqdm(links):\n",
        "    results.append(dl(link))\n",
        "    if (i%1000==0) and (i//1000>0):\n",
        "        save_list((i//1000), results)\n",
        "        results=[] #\n",
        "    i+=1\n",
        "save_list(i//1000+1, results)"
      ]
    }
  ],
  "metadata": {
    "colab": {
      "provenance": [],
      "mount_file_id": "1IPuQGFzSC8_AFpRObEG5-5pqGZsdfhnP",
      "authorship_tag": "ABX9TyP2JPVrrJP4JOQPCNJBNTlA",
      "include_colab_link": true
    },
    "kernelspec": {
      "display_name": "Python 3",
      "name": "python3"
    },
    "language_info": {
      "name": "python"
    }
  },
  "nbformat": 4,
  "nbformat_minor": 0
}