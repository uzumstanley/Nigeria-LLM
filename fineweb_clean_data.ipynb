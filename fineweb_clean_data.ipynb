{
  "cells": [
    {
      "cell_type": "markdown",
      "metadata": {
        "id": "view-in-github",
        "colab_type": "text"
      },
      "source": [
        "<a href=\"https://colab.research.google.com/github/saheedniyi02/naijaweb/blob/main/fineweb_clean_data.ipynb\" target=\"_parent\"><img src=\"https://colab.research.google.com/assets/colab-badge.svg\" alt=\"Open In Colab\"/></a>"
      ]
    },
    {
      "cell_type": "code",
      "execution_count": null,
      "metadata": {
        "colab": {
          "base_uri": "https://localhost:8080/"
        },
        "id": "iZ5EOe0B7cpY",
        "outputId": "3efea694-7da7-4145-b4f2-7fbd57de7222"
      },
      "outputs": [
        {
          "name": "stderr",
          "output_type": "stream",
          "text": [
            "[nltk_data] Downloading package punkt to /root/nltk_data...\n",
            "[nltk_data]   Unzipping tokenizers/punkt.zip.\n"
          ]
        },
        {
          "data": {
            "text/plain": [
              "True"
            ]
          },
          "execution_count": 1,
          "metadata": {},
          "output_type": "execute_result"
        }
      ],
      "source": [
        "import pandas as pd\n",
        "import os\n",
        "import nltk\n",
        "nltk.download('punkt')"
      ]
    },
    {
      "cell_type": "code",
      "execution_count": null,
      "metadata": {
        "colab": {
          "base_uri": "https://localhost:8080/"
        },
        "id": "5JwIS4afwfoP",
        "outputId": "6307017e-ad57-4c66-bae1-97eae8e0ac0b"
      },
      "outputs": [
        {
          "name": "stdout",
          "output_type": "stream",
          "text": [
            "Mounted at /content/drive\n"
          ]
        }
      ],
      "source": [
        "from google.colab import drive\n",
        "drive.mount('/content/drive')"
      ]
    },
    {
      "cell_type": "code",
      "execution_count": null,
      "metadata": {
        "id": "8kuCBuRggmSj"
      },
      "outputs": [],
      "source": [
        "files=os.listdir(\"/content/drive/MyDrive/nairaland_webtext/cleaned_403\")"
      ]
    },
    {
      "cell_type": "code",
      "execution_count": null,
      "metadata": {
        "colab": {
          "base_uri": "https://localhost:8080/"
        },
        "id": "85kW1HNu7pwz",
        "outputId": "f6e2df69-6484-4e0a-b230-e5fece602ae0"
      },
      "outputs": [
        {
          "name": "stdout",
          "output_type": "stream",
          "text": [
            "data_33.csv\n",
            "data_99.csv\n",
            "data_66.csv\n",
            "data_116.csv\n"
          ]
        }
      ],
      "source": [
        "all_dfs=[]\n",
        "for file in files:\n",
        "    df=pd.read_csv(f\"/content/drive/MyDrive/nairaland_webtext/cleaned_403/{file}\")\n",
        "    print(file)\n",
        "    all_dfs.append(df)"
      ]
    },
    {
      "cell_type": "code",
      "execution_count": null,
      "metadata": {
        "id": "p1yAl4bLloSR"
      },
      "outputs": [],
      "source": [
        "files=os.listdir(\"/content/drive/MyDrive/nairaland_webtext/cleaned_dataset\")"
      ]
    },
    {
      "cell_type": "code",
      "execution_count": null,
      "metadata": {
        "colab": {
          "base_uri": "https://localhost:8080/"
        },
        "id": "uIGAQSqFuD9u",
        "outputId": "32604ea1-6ebf-4e10-b8f9-baa529c15746"
      },
      "outputs": [
        {
          "name": "stdout",
          "output_type": "stream",
          "text": [
            "data_133.csv\n",
            "data_166.csv\n",
            "data_199.csv\n",
            "data_233.csv\n",
            "data_266.csv\n",
            "data_300.csv\n",
            "data_933.csv\n",
            "data_945.csv\n",
            "data_833.csv\n",
            "data_733.csv\n",
            "data_866.csv\n",
            "data_766.csv\n",
            "data_900.csv\n",
            "data_800.csv\n",
            "data_466.csv\n",
            "data_533.csv\n",
            "data_433.csv\n",
            "data_566.csv\n",
            "data_333.csv\n",
            "data_366.csv\n",
            "data_633.csv\n",
            "data_700.csv\n",
            "data_666.csv\n",
            "data_400.csv\n",
            "data_500.csv\n",
            "data_600.csv\n",
            "data_100.csv\n",
            "data_66.csv\n",
            "data_33.csv\n",
            "data_invalid1.csv\n"
          ]
        }
      ],
      "source": [
        "for file in files:\n",
        "    df=pd.read_csv(f\"/content/drive/MyDrive/nairaland_webtext/cleaned_dataset/{file}\")\n",
        "    print(file)\n",
        "    all_dfs.append(df)"
      ]
    },
    {
      "cell_type": "code",
      "execution_count": null,
      "metadata": {
        "id": "JKLFnSltu3x_"
      },
      "outputs": [],
      "source": [
        "files=os.listdir(\"/content/drive/MyDrive/openweb_naij/cleaned_data\")"
      ]
    },
    {
      "cell_type": "code",
      "execution_count": null,
      "metadata": {
        "colab": {
          "base_uri": "https://localhost:8080/"
        },
        "id": "J8ZHRUyhuzwn",
        "outputId": "f668ba92-46d9-4b2f-9d5e-0a2ef15eb8d1"
      },
      "outputs": [
        {
          "name": "stdout",
          "output_type": "stream",
          "text": [
            "data_500.csv\n",
            "data_1000.csv\n",
            "data_1500.csv\n",
            "data_2000.csv\n",
            "data_2400.csv\n",
            "data_403.csv\n"
          ]
        }
      ],
      "source": [
        "for file in files:\n",
        "    df=pd.read_csv(f\"/content/drive/MyDrive/openweb_naij/cleaned_data/{file}\")\n",
        "    print(file)\n",
        "    all_dfs.append(df)"
      ]
    },
    {
      "cell_type": "code",
      "execution_count": null,
      "metadata": {
        "id": "2TfE9O1u8fIg"
      },
      "outputs": [],
      "source": [
        "data=pd.concat(all_dfs)"
      ]
    },
    {
      "cell_type": "code",
      "execution_count": null,
      "metadata": {
        "colab": {
          "base_uri": "https://localhost:8080/"
        },
        "id": "DCiW1fxXjaz3",
        "outputId": "10c5a1d7-298e-4f6c-c348-e615d2ec244a"
      },
      "outputs": [
        {
          "data": {
            "text/plain": [
              "(597091, 4)"
            ]
          },
          "execution_count": 10,
          "metadata": {},
          "output_type": "execute_result"
        }
      ],
      "source": [
        "data.shape"
      ]
    },
    {
      "cell_type": "code",
      "execution_count": null,
      "metadata": {
        "id": "XO1Kpm9R8jyn"
      },
      "outputs": [],
      "source": [
        "data=data[~pd.isna(data[\"text\"])]\n",
        "data.drop_duplicates(\"url\", inplace=True)"
      ]
    },
    {
      "cell_type": "code",
      "execution_count": null,
      "metadata": {
        "id": "9Q0hS4sB9F3s"
      },
      "outputs": [],
      "source": [
        "data.drop_duplicates(\"text\", inplace=True)"
      ]
    },
    {
      "cell_type": "code",
      "execution_count": null,
      "metadata": {
        "colab": {
          "base_uri": "https://localhost:8080/"
        },
        "id": "HsVnc9KhWSY1",
        "outputId": "bc41a7c3-75d7-4e80-b4b0-973ceca07bab"
      },
      "outputs": [
        {
          "data": {
            "text/plain": [
              "(350095, 4)"
            ]
          },
          "execution_count": 13,
          "metadata": {},
          "output_type": "execute_result"
        }
      ],
      "source": [
        "data.shape"
      ]
    },
    {
      "cell_type": "code",
      "execution_count": null,
      "metadata": {
        "colab": {
          "base_uri": "https://localhost:8080/"
        },
        "id": "QxhXArSblHjm",
        "outputId": "2818ee71-f380-4e46-fe79-25aa48cca978"
      },
      "outputs": [
        {
          "name": "stdout",
          "output_type": "stream",
          "text": [
            "Collecting tldextract\n",
            "  Downloading tldextract-5.1.2-py3-none-any.whl.metadata (11 kB)\n",
            "Collecting newspaper3k\n",
            "  Downloading newspaper3k-0.2.8-py3-none-any.whl.metadata (11 kB)\n",
            "Collecting trafilatura\n",
            "  Downloading trafilatura-1.12.2-py3-none-any.whl.metadata (14 kB)\n",
            "Collecting cloudscraper\n",
            "  Downloading cloudscraper-1.2.71-py2.py3-none-any.whl.metadata (19 kB)\n",
            "Collecting datatrove[io,processing]\n",
            "  Downloading datatrove-0.3.0-py3-none-any.whl.metadata (30 kB)\n",
            "Collecting dill>=0.3.0 (from datatrove[io,processing])\n",
            "  Downloading dill-0.3.9-py3-none-any.whl.metadata (10 kB)\n",
            "Requirement already satisfied: fsspec>=2023.12.2 in /usr/local/lib/python3.10/dist-packages (from datatrove[io,processing]) (2024.6.1)\n",
            "Requirement already satisfied: huggingface-hub>=0.17.0 in /usr/local/lib/python3.10/dist-packages (from datatrove[io,processing]) (0.24.7)\n",
            "Requirement already satisfied: humanize in /usr/local/lib/python3.10/dist-packages (from datatrove[io,processing]) (4.10.0)\n",
            "Collecting loguru>=0.7.0 (from datatrove[io,processing])\n",
            "  Downloading loguru-0.7.2-py3-none-any.whl.metadata (23 kB)\n",
            "Collecting multiprocess (from datatrove[io,processing])\n",
            "  Downloading multiprocess-0.70.17-py310-none-any.whl.metadata (7.2 kB)\n",
            "Requirement already satisfied: numpy<2.0.0,>=1.25.0 in /usr/local/lib/python3.10/dist-packages (from datatrove[io,processing]) (1.26.4)\n",
            "Requirement already satisfied: tqdm in /usr/local/lib/python3.10/dist-packages (from datatrove[io,processing]) (4.66.5)\n",
            "Collecting fasttext-wheel (from datatrove[io,processing])\n",
            "  Downloading fasttext_wheel-0.9.2-cp310-cp310-manylinux_2_17_x86_64.manylinux2014_x86_64.whl.metadata (16 kB)\n",
            "Requirement already satisfied: nltk in /usr/local/lib/python3.10/dist-packages (from datatrove[io,processing]) (3.8.1)\n",
            "Collecting inscriptis (from datatrove[io,processing])\n",
            "  Downloading inscriptis-2.5.0-py3-none-any.whl.metadata (25 kB)\n",
            "Collecting trafilatura\n",
            "  Downloading trafilatura-1.11.0-py3-none-any.whl.metadata (14 kB)\n",
            "Requirement already satisfied: tokenizers in /usr/local/lib/python3.10/dist-packages (from datatrove[io,processing]) (0.19.1)\n",
            "Collecting ftfy (from datatrove[io,processing])\n",
            "  Downloading ftfy-6.2.3-py3-none-any.whl.metadata (7.8 kB)\n",
            "Collecting fasteners (from datatrove[io,processing])\n",
            "  Downloading fasteners-0.19-py3-none-any.whl.metadata (4.9 kB)\n",
            "Collecting xxhash (from datatrove[io,processing])\n",
            "  Downloading xxhash-3.5.0-cp310-cp310-manylinux_2_17_x86_64.manylinux2014_x86_64.whl.metadata (12 kB)\n",
            "Collecting kenlm (from datatrove[io,processing])\n",
            "  Downloading kenlm-0.2.0.tar.gz (427 kB)\n",
            "\u001b[2K     \u001b[90m━━━━━━━━━━━━━━━━━━━━━━━━━━━━━━━━━━━━━━━━\u001b[0m \u001b[32m427.4/427.4 kB\u001b[0m \u001b[31m8.8 MB/s\u001b[0m eta \u001b[36m0:00:00\u001b[0m\n",
            "\u001b[?25h  Installing build dependencies ... \u001b[?25l\u001b[?25hdone\n",
            "  Getting requirements to build wheel ... \u001b[?25l\u001b[?25hdone\n",
            "  Preparing metadata (pyproject.toml) ... \u001b[?25l\u001b[?25hdone\n",
            "Collecting pyahocorasick (from datatrove[io,processing])\n",
            "  Downloading pyahocorasick-2.1.0-cp310-cp310-manylinux_2_5_x86_64.manylinux1_x86_64.manylinux_2_12_x86_64.manylinux2010_x86_64.whl.metadata (13 kB)\n",
            "Collecting faust-cchardet (from datatrove[io,processing])\n",
            "  Downloading faust_cchardet-2.1.19-cp310-cp310-manylinux_2_17_x86_64.manylinux2014_x86_64.whl.metadata (8.3 kB)\n",
            "Requirement already satisfied: pyarrow in /usr/local/lib/python3.10/dist-packages (from datatrove[io,processing]) (16.1.0)\n",
            "Collecting python-magic (from datatrove[io,processing])\n",
            "  Downloading python_magic-0.4.27-py2.py3-none-any.whl.metadata (5.8 kB)\n",
            "Collecting warcio (from datatrove[io,processing])\n",
            "  Downloading warcio-1.7.4-py2.py3-none-any.whl.metadata (15 kB)\n",
            "Collecting datasets>=2.18.0 (from datatrove[io,processing])\n",
            "  Downloading datasets-3.0.1-py3-none-any.whl.metadata (20 kB)\n",
            "Collecting orjson (from datatrove[io,processing])\n",
            "  Downloading orjson-3.10.7-cp310-cp310-manylinux_2_17_x86_64.manylinux2014_x86_64.whl.metadata (50 kB)\n",
            "\u001b[2K     \u001b[90m━━━━━━━━━━━━━━━━━━━━━━━━━━━━━━━━━━━━━━━━\u001b[0m \u001b[32m50.4/50.4 kB\u001b[0m \u001b[31m3.0 MB/s\u001b[0m eta \u001b[36m0:00:00\u001b[0m\n",
            "\u001b[?25hCollecting zstandard (from datatrove[io,processing])\n",
            "  Downloading zstandard-0.23.0-cp310-cp310-manylinux_2_17_x86_64.manylinux2014_x86_64.whl.metadata (3.0 kB)\n",
            "Requirement already satisfied: idna in /usr/local/lib/python3.10/dist-packages (from tldextract) (3.10)\n",
            "Requirement already satisfied: requests>=2.1.0 in /usr/local/lib/python3.10/dist-packages (from tldextract) (2.32.3)\n",
            "Collecting requests-file>=1.4 (from tldextract)\n",
            "  Downloading requests_file-2.1.0-py2.py3-none-any.whl.metadata (1.7 kB)\n",
            "Requirement already satisfied: filelock>=3.0.8 in /usr/local/lib/python3.10/dist-packages (from tldextract) (3.16.1)\n",
            "Requirement already satisfied: beautifulsoup4>=4.4.1 in /usr/local/lib/python3.10/dist-packages (from newspaper3k) (4.12.3)\n",
            "Requirement already satisfied: Pillow>=3.3.0 in /usr/local/lib/python3.10/dist-packages (from newspaper3k) (10.4.0)\n",
            "Requirement already satisfied: PyYAML>=3.11 in /usr/local/lib/python3.10/dist-packages (from newspaper3k) (6.0.2)\n",
            "Collecting cssselect>=0.9.2 (from newspaper3k)\n",
            "  Downloading cssselect-1.2.0-py2.py3-none-any.whl.metadata (2.2 kB)\n",
            "Requirement already satisfied: lxml>=3.6.0 in /usr/local/lib/python3.10/dist-packages (from newspaper3k) (4.9.4)\n",
            "Collecting feedparser>=5.2.1 (from newspaper3k)\n",
            "  Downloading feedparser-6.0.11-py3-none-any.whl.metadata (2.4 kB)\n",
            "Collecting feedfinder2>=0.0.4 (from newspaper3k)\n",
            "  Downloading feedfinder2-0.0.4.tar.gz (3.3 kB)\n",
            "  Preparing metadata (setup.py) ... \u001b[?25l\u001b[?25hdone\n",
            "Collecting jieba3k>=0.35.1 (from newspaper3k)\n",
            "  Downloading jieba3k-0.35.1.zip (7.4 MB)\n",
            "\u001b[2K     \u001b[90m━━━━━━━━━━━━━━━━━━━━━━━━━━━━━━━━━━━━━━━━\u001b[0m \u001b[32m7.4/7.4 MB\u001b[0m \u001b[31m35.6 MB/s\u001b[0m eta \u001b[36m0:00:00\u001b[0m\n",
            "\u001b[?25h  Preparing metadata (setup.py) ... \u001b[?25l\u001b[?25hdone\n",
            "Requirement already satisfied: python-dateutil>=2.5.3 in /usr/local/lib/python3.10/dist-packages (from newspaper3k) (2.8.2)\n",
            "Collecting tinysegmenter==0.3 (from newspaper3k)\n",
            "  Downloading tinysegmenter-0.3.tar.gz (16 kB)\n",
            "  Preparing metadata (setup.py) ... \u001b[?25l\u001b[?25hdone\n",
            "Requirement already satisfied: certifi in /usr/local/lib/python3.10/dist-packages (from trafilatura) (2024.8.30)\n",
            "Collecting courlan>=1.1.0 (from trafilatura)\n",
            "  Downloading courlan-1.3.1-py3-none-any.whl.metadata (17 kB)\n",
            "Collecting htmldate>=1.8.1 (from trafilatura)\n",
            "  Downloading htmldate-1.9.0-py3-none-any.whl.metadata (10 kB)\n",
            "Collecting justext>=3.0.1 (from trafilatura)\n",
            "  Downloading jusText-3.0.1-py2.py3-none-any.whl.metadata (6.9 kB)\n",
            "Collecting lxml>=3.6.0 (from newspaper3k)\n",
            "  Downloading lxml-5.3.0-cp310-cp310-manylinux_2_28_x86_64.whl.metadata (3.8 kB)\n",
            "Requirement already satisfied: charset-normalizer>=3.2.0 in /usr/local/lib/python3.10/dist-packages (from trafilatura) (3.3.2)\n",
            "Requirement already satisfied: urllib3<3,>=1.26 in /usr/local/lib/python3.10/dist-packages (from trafilatura) (2.2.3)\n",
            "Requirement already satisfied: pyparsing>=2.4.7 in /usr/local/lib/python3.10/dist-packages (from cloudscraper) (3.1.4)\n",
            "Collecting requests-toolbelt>=0.9.1 (from cloudscraper)\n",
            "  Downloading requests_toolbelt-1.0.0-py2.py3-none-any.whl.metadata (14 kB)\n",
            "Requirement already satisfied: soupsieve>1.2 in /usr/local/lib/python3.10/dist-packages (from beautifulsoup4>=4.4.1->newspaper3k) (2.6)\n",
            "Requirement already satisfied: babel>=2.16.0 in /usr/local/lib/python3.10/dist-packages (from courlan>=1.1.0->trafilatura) (2.16.0)\n",
            "Collecting tld>=0.13 (from courlan>=1.1.0->trafilatura)\n",
            "  Downloading tld-0.13-py2.py3-none-any.whl.metadata (9.4 kB)\n",
            "Collecting dill>=0.3.0 (from datatrove[io,processing])\n",
            "  Downloading dill-0.3.8-py3-none-any.whl.metadata (10 kB)\n",
            "Requirement already satisfied: pandas in /usr/local/lib/python3.10/dist-packages (from datasets>=2.18.0->datatrove[io,processing]) (2.2.2)\n",
            "Requirement already satisfied: aiohttp in /usr/local/lib/python3.10/dist-packages (from datasets>=2.18.0->datatrove[io,processing]) (3.10.8)\n",
            "Requirement already satisfied: packaging in /usr/local/lib/python3.10/dist-packages (from datasets>=2.18.0->datatrove[io,processing]) (24.1)\n",
            "Requirement already satisfied: six in /usr/local/lib/python3.10/dist-packages (from feedfinder2>=0.0.4->newspaper3k) (1.16.0)\n",
            "Collecting sgmllib3k (from feedparser>=5.2.1->newspaper3k)\n",
            "  Downloading sgmllib3k-1.0.0.tar.gz (5.8 kB)\n",
            "  Preparing metadata (setup.py) ... \u001b[?25l\u001b[?25hdone\n",
            "Collecting dateparser>=1.1.2 (from htmldate>=1.8.1->trafilatura)\n",
            "  Downloading dateparser-1.2.0-py2.py3-none-any.whl.metadata (28 kB)\n",
            "Requirement already satisfied: typing-extensions>=3.7.4.3 in /usr/local/lib/python3.10/dist-packages (from huggingface-hub>=0.17.0->datatrove[io,processing]) (4.12.2)\n",
            "Requirement already satisfied: click in /usr/local/lib/python3.10/dist-packages (from nltk->datatrove[io,processing]) (8.1.7)\n",
            "Requirement already satisfied: joblib in /usr/local/lib/python3.10/dist-packages (from nltk->datatrove[io,processing]) (1.4.2)\n",
            "Requirement already satisfied: regex>=2021.8.3 in /usr/local/lib/python3.10/dist-packages (from nltk->datatrove[io,processing]) (2024.9.11)\n",
            "Collecting pybind11>=2.2 (from fasttext-wheel->datatrove[io,processing])\n",
            "  Downloading pybind11-2.13.6-py3-none-any.whl.metadata (9.5 kB)\n",
            "Requirement already satisfied: setuptools>=0.7.0 in /usr/local/lib/python3.10/dist-packages (from fasttext-wheel->datatrove[io,processing]) (71.0.4)\n",
            "Requirement already satisfied: wcwidth<0.3.0,>=0.2.12 in /usr/local/lib/python3.10/dist-packages (from ftfy->datatrove[io,processing]) (0.2.13)\n",
            "INFO: pip is looking at multiple versions of multiprocess to determine which version is compatible with other requirements. This could take a while.\n",
            "Collecting multiprocess (from datatrove[io,processing])\n",
            "  Downloading multiprocess-0.70.16-py310-none-any.whl.metadata (7.2 kB)\n",
            "Requirement already satisfied: pytz in /usr/local/lib/python3.10/dist-packages (from dateparser>=1.1.2->htmldate>=1.8.1->trafilatura) (2024.2)\n",
            "Requirement already satisfied: tzlocal in /usr/local/lib/python3.10/dist-packages (from dateparser>=1.1.2->htmldate>=1.8.1->trafilatura) (5.2)\n",
            "Requirement already satisfied: aiohappyeyeballs>=2.3.0 in /usr/local/lib/python3.10/dist-packages (from aiohttp->datasets>=2.18.0->datatrove[io,processing]) (2.4.2)\n",
            "Requirement already satisfied: aiosignal>=1.1.2 in /usr/local/lib/python3.10/dist-packages (from aiohttp->datasets>=2.18.0->datatrove[io,processing]) (1.3.1)\n",
            "Requirement already satisfied: attrs>=17.3.0 in /usr/local/lib/python3.10/dist-packages (from aiohttp->datasets>=2.18.0->datatrove[io,processing]) (24.2.0)\n",
            "Requirement already satisfied: frozenlist>=1.1.1 in /usr/local/lib/python3.10/dist-packages (from aiohttp->datasets>=2.18.0->datatrove[io,processing]) (1.4.1)\n",
            "Requirement already satisfied: multidict<7.0,>=4.5 in /usr/local/lib/python3.10/dist-packages (from aiohttp->datasets>=2.18.0->datatrove[io,processing]) (6.1.0)\n",
            "Requirement already satisfied: yarl<2.0,>=1.12.0 in /usr/local/lib/python3.10/dist-packages (from aiohttp->datasets>=2.18.0->datatrove[io,processing]) (1.13.1)\n",
            "Requirement already satisfied: async-timeout<5.0,>=4.0 in /usr/local/lib/python3.10/dist-packages (from aiohttp->datasets>=2.18.0->datatrove[io,processing]) (4.0.3)\n",
            "Collecting lxml-html-clean (from lxml[html_clean]>=4.4.2->justext>=3.0.1->trafilatura)\n",
            "  Downloading lxml_html_clean-0.2.2-py3-none-any.whl.metadata (1.8 kB)\n",
            "Requirement already satisfied: tzdata>=2022.7 in /usr/local/lib/python3.10/dist-packages (from pandas->datasets>=2.18.0->datatrove[io,processing]) (2024.2)\n",
            "Downloading tldextract-5.1.2-py3-none-any.whl (97 kB)\n",
            "\u001b[2K   \u001b[90m━━━━━━━━━━━━━━━━━━━━━━━━━━━━━━━━━━━━━━━━\u001b[0m \u001b[32m97.6/97.6 kB\u001b[0m \u001b[31m6.2 MB/s\u001b[0m eta \u001b[36m0:00:00\u001b[0m\n",
            "\u001b[?25hDownloading newspaper3k-0.2.8-py3-none-any.whl (211 kB)\n",
            "\u001b[2K   \u001b[90m━━━━━━━━━━━━━━━━━━━━━━━━━━━━━━━━━━━━━━━━\u001b[0m \u001b[32m211.1/211.1 kB\u001b[0m \u001b[31m13.4 MB/s\u001b[0m eta \u001b[36m0:00:00\u001b[0m\n",
            "\u001b[?25hDownloading trafilatura-1.11.0-py3-none-any.whl (1.0 MB)\n",
            "\u001b[2K   \u001b[90m━━━━━━━━━━━━━━━━━━━━━━━━━━━━━━━━━━━━━━━━\u001b[0m \u001b[32m1.0/1.0 MB\u001b[0m \u001b[31m35.0 MB/s\u001b[0m eta \u001b[36m0:00:00\u001b[0m\n",
            "\u001b[?25hDownloading cloudscraper-1.2.71-py2.py3-none-any.whl (99 kB)\n",
            "\u001b[2K   \u001b[90m━━━━━━━━━━━━━━━━━━━━━━━━━━━━━━━━━━━━━━━━\u001b[0m \u001b[32m99.7/99.7 kB\u001b[0m \u001b[31m6.0 MB/s\u001b[0m eta \u001b[36m0:00:00\u001b[0m\n",
            "\u001b[?25hDownloading courlan-1.3.1-py3-none-any.whl (33 kB)\n",
            "Downloading cssselect-1.2.0-py2.py3-none-any.whl (18 kB)\n",
            "Downloading datasets-3.0.1-py3-none-any.whl (471 kB)\n",
            "\u001b[2K   \u001b[90m━━━━━━━━━━━━━━━━━━━━━━━━━━━━━━━━━━━━━━━━\u001b[0m \u001b[32m471.6/471.6 kB\u001b[0m \u001b[31m16.3 MB/s\u001b[0m eta \u001b[36m0:00:00\u001b[0m\n",
            "\u001b[?25hDownloading dill-0.3.8-py3-none-any.whl (116 kB)\n",
            "\u001b[2K   \u001b[90m━━━━━━━━━━━━━━━━━━━━━━━━━━━━━━━━━━━━━━━━\u001b[0m \u001b[32m116.3/116.3 kB\u001b[0m \u001b[31m7.1 MB/s\u001b[0m eta \u001b[36m0:00:00\u001b[0m\n",
            "\u001b[?25hDownloading feedparser-6.0.11-py3-none-any.whl (81 kB)\n",
            "\u001b[2K   \u001b[90m━━━━━━━━━━━━━━━━━━━━━━━━━━━━━━━━━━━━━━━━\u001b[0m \u001b[32m81.3/81.3 kB\u001b[0m \u001b[31m5.9 MB/s\u001b[0m eta \u001b[36m0:00:00\u001b[0m\n",
            "\u001b[?25hDownloading htmldate-1.9.0-py3-none-any.whl (31 kB)\n",
            "Downloading jusText-3.0.1-py2.py3-none-any.whl (837 kB)\n",
            "\u001b[2K   \u001b[90m━━━━━━━━━━━━━━━━━━━━━━━━━━━━━━━━━━━━━━━━\u001b[0m \u001b[32m837.8/837.8 kB\u001b[0m \u001b[31m33.9 MB/s\u001b[0m eta \u001b[36m0:00:00\u001b[0m\n",
            "\u001b[?25hDownloading loguru-0.7.2-py3-none-any.whl (62 kB)\n",
            "\u001b[2K   \u001b[90m━━━━━━━━━━━━━━━━━━━━━━━━━━━━━━━━━━━━━━━━\u001b[0m \u001b[32m62.5/62.5 kB\u001b[0m \u001b[31m4.7 MB/s\u001b[0m eta \u001b[36m0:00:00\u001b[0m\n",
            "\u001b[?25hDownloading lxml-5.3.0-cp310-cp310-manylinux_2_28_x86_64.whl (5.0 MB)\n",
            "\u001b[2K   \u001b[90m━━━━━━━━━━━━━━━━━━━━━━━━━━━━━━━━━━━━━━━━\u001b[0m \u001b[32m5.0/5.0 MB\u001b[0m \u001b[31m62.2 MB/s\u001b[0m eta \u001b[36m0:00:00\u001b[0m\n",
            "\u001b[?25hDownloading requests_file-2.1.0-py2.py3-none-any.whl (4.2 kB)\n",
            "Downloading requests_toolbelt-1.0.0-py2.py3-none-any.whl (54 kB)\n",
            "\u001b[2K   \u001b[90m━━━━━━━━━━━━━━━━━━━━━━━━━━━━━━━━━━━━━━━━\u001b[0m \u001b[32m54.5/54.5 kB\u001b[0m \u001b[31m3.7 MB/s\u001b[0m eta \u001b[36m0:00:00\u001b[0m\n",
            "\u001b[?25hDownloading datatrove-0.3.0-py3-none-any.whl (16.7 MB)\n",
            "\u001b[2K   \u001b[90m━━━━━━━━━━━━━━━━━━━━━━━━━━━━━━━━━━━━━━━━\u001b[0m \u001b[32m16.7/16.7 MB\u001b[0m \u001b[31m70.0 MB/s\u001b[0m eta \u001b[36m0:00:00\u001b[0m\n",
            "\u001b[?25hDownloading fasteners-0.19-py3-none-any.whl (18 kB)\n",
            "Downloading fasttext_wheel-0.9.2-cp310-cp310-manylinux_2_17_x86_64.manylinux2014_x86_64.whl (4.4 MB)\n",
            "\u001b[2K   \u001b[90m━━━━━━━━━━━━━━━━━━━━━━━━━━━━━━━━━━━━━━━━\u001b[0m \u001b[32m4.4/4.4 MB\u001b[0m \u001b[31m79.8 MB/s\u001b[0m eta \u001b[36m0:00:00\u001b[0m\n",
            "\u001b[?25hDownloading faust_cchardet-2.1.19-cp310-cp310-manylinux_2_17_x86_64.manylinux2014_x86_64.whl (301 kB)\n",
            "\u001b[2K   \u001b[90m━━━━━━━━━━━━━━━━━━━━━━━━━━━━━━━━━━━━━━━━\u001b[0m \u001b[32m302.0/302.0 kB\u001b[0m \u001b[31m20.0 MB/s\u001b[0m eta \u001b[36m0:00:00\u001b[0m\n",
            "\u001b[?25hDownloading ftfy-6.2.3-py3-none-any.whl (43 kB)\n",
            "\u001b[2K   \u001b[90m━━━━━━━━━━━━━━━━━━━━━━━━━━━━━━━━━━━━━━━━\u001b[0m \u001b[32m43.0/43.0 kB\u001b[0m \u001b[31m2.8 MB/s\u001b[0m eta \u001b[36m0:00:00\u001b[0m\n",
            "\u001b[?25hDownloading inscriptis-2.5.0-py3-none-any.whl (45 kB)\n",
            "\u001b[2K   \u001b[90m━━━━━━━━━━━━━━━━━━━━━━━━━━━━━━━━━━━━━━━━\u001b[0m \u001b[32m45.4/45.4 kB\u001b[0m \u001b[31m3.2 MB/s\u001b[0m eta \u001b[36m0:00:00\u001b[0m\n",
            "\u001b[?25hDownloading multiprocess-0.70.16-py310-none-any.whl (134 kB)\n",
            "\u001b[2K   \u001b[90m━━━━━━━━━━━━━━━━━━━━━━━━━━━━━━━━━━━━━━━━\u001b[0m \u001b[32m134.8/134.8 kB\u001b[0m \u001b[31m10.1 MB/s\u001b[0m eta \u001b[36m0:00:00\u001b[0m\n",
            "\u001b[?25hDownloading orjson-3.10.7-cp310-cp310-manylinux_2_17_x86_64.manylinux2014_x86_64.whl (141 kB)\n",
            "\u001b[2K   \u001b[90m━━━━━━━━━━━━━━━━━━━━━━━━━━━━━━━━━━━━━━━━\u001b[0m \u001b[32m141.9/141.9 kB\u001b[0m \u001b[31m10.0 MB/s\u001b[0m eta \u001b[36m0:00:00\u001b[0m\n",
            "\u001b[?25hDownloading pyahocorasick-2.1.0-cp310-cp310-manylinux_2_5_x86_64.manylinux1_x86_64.manylinux_2_12_x86_64.manylinux2010_x86_64.whl (110 kB)\n",
            "\u001b[2K   \u001b[90m━━━━━━━━━━━━━━━━━━━━━━━━━━━━━━━━━━━━━━━━\u001b[0m \u001b[32m110.7/110.7 kB\u001b[0m \u001b[31m8.4 MB/s\u001b[0m eta \u001b[36m0:00:00\u001b[0m\n",
            "\u001b[?25hDownloading python_magic-0.4.27-py2.py3-none-any.whl (13 kB)\n",
            "Downloading warcio-1.7.4-py2.py3-none-any.whl (40 kB)\n",
            "\u001b[2K   \u001b[90m━━━━━━━━━━━━━━━━━━━━━━━━━━━━━━━━━━━━━━━━\u001b[0m \u001b[32m40.2/40.2 kB\u001b[0m \u001b[31m2.4 MB/s\u001b[0m eta \u001b[36m0:00:00\u001b[0m\n",
            "\u001b[?25hDownloading xxhash-3.5.0-cp310-cp310-manylinux_2_17_x86_64.manylinux2014_x86_64.whl (194 kB)\n",
            "\u001b[2K   \u001b[90m━━━━━━━━━━━━━━━━━━━━━━━━━━━━━━━━━━━━━━━━\u001b[0m \u001b[32m194.1/194.1 kB\u001b[0m \u001b[31m14.5 MB/s\u001b[0m eta \u001b[36m0:00:00\u001b[0m\n",
            "\u001b[?25hDownloading zstandard-0.23.0-cp310-cp310-manylinux_2_17_x86_64.manylinux2014_x86_64.whl (5.4 MB)\n",
            "\u001b[2K   \u001b[90m━━━━━━━━━━━━━━━━━━━━━━━━━━━━━━━━━━━━━━━━\u001b[0m \u001b[32m5.4/5.4 MB\u001b[0m \u001b[31m85.9 MB/s\u001b[0m eta \u001b[36m0:00:00\u001b[0m\n",
            "\u001b[?25hDownloading dateparser-1.2.0-py2.py3-none-any.whl (294 kB)\n",
            "\u001b[2K   \u001b[90m━━━━━━━━━━━━━━━━━━━━━━━━━━━━━━━━━━━━━━━━\u001b[0m \u001b[32m295.0/295.0 kB\u001b[0m \u001b[31m20.0 MB/s\u001b[0m eta \u001b[36m0:00:00\u001b[0m\n",
            "\u001b[?25hDownloading pybind11-2.13.6-py3-none-any.whl (243 kB)\n",
            "\u001b[2K   \u001b[90m━━━━━━━━━━━━━━━━━━━━━━━━━━━━━━━━━━━━━━━━\u001b[0m \u001b[32m243.3/243.3 kB\u001b[0m \u001b[31m16.4 MB/s\u001b[0m eta \u001b[36m0:00:00\u001b[0m\n",
            "\u001b[?25hDownloading tld-0.13-py2.py3-none-any.whl (263 kB)\n",
            "\u001b[2K   \u001b[90m━━━━━━━━━━━━━━━━━━━━━━━━━━━━━━━━━━━━━━━━\u001b[0m \u001b[32m263.8/263.8 kB\u001b[0m \u001b[31m17.5 MB/s\u001b[0m eta \u001b[36m0:00:00\u001b[0m\n",
            "\u001b[?25hDownloading lxml_html_clean-0.2.2-py3-none-any.whl (13 kB)\n",
            "Building wheels for collected packages: tinysegmenter, feedfinder2, jieba3k, kenlm, sgmllib3k\n",
            "  Building wheel for tinysegmenter (setup.py) ... \u001b[?25l\u001b[?25hdone\n",
            "  Created wheel for tinysegmenter: filename=tinysegmenter-0.3-py3-none-any.whl size=13540 sha256=9fc4eda8338dafd7d65567c971424cf7248d3cd3f755f262e6e2d8eb313762ab\n",
            "  Stored in directory: /root/.cache/pip/wheels/c8/d6/6c/384f58df48c00b9a31d638005143b5b3ac62c3d25fb1447f23\n",
            "  Building wheel for feedfinder2 (setup.py) ... \u001b[?25l\u001b[?25hdone\n",
            "  Created wheel for feedfinder2: filename=feedfinder2-0.0.4-py3-none-any.whl size=3342 sha256=c021e56bf085981aaca66bf96fb569926436b670bfb12c2be2f47a44e8cecf87\n",
            "  Stored in directory: /root/.cache/pip/wheels/97/02/e7/a1ff1760e12bdbaab0ac824fae5c1bc933e41c4ccd6a8f8edb\n",
            "  Building wheel for jieba3k (setup.py) ... \u001b[?25l\u001b[?25hdone\n",
            "  Created wheel for jieba3k: filename=jieba3k-0.35.1-py3-none-any.whl size=7398380 sha256=6c4ff27fe6f6a893b706d671c29e2f2c031bcf06aa54b4918b8afdf0444b0452\n",
            "  Stored in directory: /root/.cache/pip/wheels/7a/c4/0c/12a9a314ecac499456c4c3b2fcc2f635a3b45a39dfbd240299\n",
            "  Building wheel for kenlm (pyproject.toml) ... \u001b[?25l\u001b[?25hdone\n",
            "  Created wheel for kenlm: filename=kenlm-0.2.0-cp310-cp310-linux_x86_64.whl size=3184431 sha256=34bd0c244cb7049e3f4e640d33bbe2da31e25b71a5ff336e188b36a02a2425fe\n",
            "  Stored in directory: /root/.cache/pip/wheels/fd/80/e0/18f4148e863fb137bd87e21ee2bf423b81b3ed6989dab95135\n",
            "  Building wheel for sgmllib3k (setup.py) ... \u001b[?25l\u001b[?25hdone\n",
            "  Created wheel for sgmllib3k: filename=sgmllib3k-1.0.0-py3-none-any.whl size=6047 sha256=3e3347698b4edad896c2e8b547bf3858afdccf2441c41face0b8b6ef051d005e\n",
            "  Stored in directory: /root/.cache/pip/wheels/f0/69/93/a47e9d621be168e9e33c7ce60524393c0b92ae83cf6c6e89c5\n",
            "Successfully built tinysegmenter feedfinder2 jieba3k kenlm sgmllib3k\n",
            "Installing collected packages: tinysegmenter, sgmllib3k, kenlm, jieba3k, faust-cchardet, zstandard, xxhash, warcio, tld, python-magic, pybind11, pyahocorasick, orjson, lxml, loguru, ftfy, feedparser, fasteners, dill, cssselect, requests-toolbelt, requests-file, multiprocess, lxml-html-clean, inscriptis, feedfinder2, fasttext-wheel, dateparser, courlan, tldextract, htmldate, datatrove, cloudscraper, newspaper3k, justext, trafilatura, datasets\n",
            "  Attempting uninstall: lxml\n",
            "    Found existing installation: lxml 4.9.4\n",
            "    Uninstalling lxml-4.9.4:\n",
            "      Successfully uninstalled lxml-4.9.4\n",
            "Successfully installed cloudscraper-1.2.71 courlan-1.3.1 cssselect-1.2.0 datasets-3.0.1 datatrove-0.3.0 dateparser-1.2.0 dill-0.3.8 fasteners-0.19 fasttext-wheel-0.9.2 faust-cchardet-2.1.19 feedfinder2-0.0.4 feedparser-6.0.11 ftfy-6.2.3 htmldate-1.9.0 inscriptis-2.5.0 jieba3k-0.35.1 justext-3.0.1 kenlm-0.2.0 loguru-0.7.2 lxml-5.3.0 lxml-html-clean-0.2.2 multiprocess-0.70.16 newspaper3k-0.2.8 orjson-3.10.7 pyahocorasick-2.1.0 pybind11-2.13.6 python-magic-0.4.27 requests-file-2.1.0 requests-toolbelt-1.0.0 sgmllib3k-1.0.0 tinysegmenter-0.3 tld-0.13 tldextract-5.1.2 trafilatura-1.11.0 warcio-1.7.4 xxhash-3.5.0 zstandard-0.23.0\n"
          ]
        }
      ],
      "source": [
        "pip install datatrove[io,processing] tldextract newspaper3k trafilatura"
      ]
    },
    {
      "cell_type": "markdown",
      "metadata": {
        "id": "jxAmHsEY_kTp"
      },
      "source": [
        "### Datatrove"
      ]
    },
    {
      "cell_type": "code",
      "execution_count": null,
      "metadata": {
        "id": "PGaTjBQhlx1V"
      },
      "outputs": [],
      "source": [
        "from datatrove.data import Document\n",
        "from datatrove.pipeline.extractors import Trafilatura\n",
        "from datatrove.pipeline.filters import (\n",
        "    C4QualityFilter,\n",
        "    FineWebQualityFilter,\n",
        "    GopherQualityFilter,\n",
        "    GopherRepetitionFilter,\n",
        "    LanguageFilter,\n",
        "    URLFilter,\n",
        ")\n",
        "from datatrove.pipeline.readers import WarcReader\n",
        "from datatrove.pipeline.writers.jsonl import JsonlWriter\n",
        "from datatrove.pipeline.writers.parquet import ParquetWriter\n",
        "from datatrove.pipeline.tokens import TokensCounter"
      ]
    },
    {
      "cell_type": "code",
      "execution_count": null,
      "metadata": {
        "id": "5kp-qNLBlVOs"
      },
      "outputs": [],
      "source": [
        "#from importlib.metadata import metadata\n",
        "def get_data():\n",
        "  docs=[]\n",
        "  for i,text in enumerate(data[\"text\"]):\n",
        "    url=data[\"url\"].iloc[i]\n",
        "    #text=result[\"text\"]\n",
        "    if (text is not None) and (len(text)>0):\n",
        "         docs.append(Document(text=text, id=i,metadata={\"url\":url}))\n",
        "  return docs"
      ]
    },
    {
      "cell_type": "code",
      "execution_count": null,
      "metadata": {
        "id": "GvRCaK9ToCny"
      },
      "outputs": [],
      "source": [
        "MAIN_OUTPUT_PATH=\"/content/drive/MyDrive/nairaland_webtext/processed_final\"\n",
        "if not os.path.exists(MAIN_OUTPUT_PATH):\n",
        "    os.makedirs(MAIN_OUTPUT_PATH)\n",
        "\n",
        "if not os.path.exists(f\"{MAIN_OUTPUT_PATH}/removed/url\"):\n",
        "    os.makedirs(f\"{MAIN_OUTPUT_PATH}/removed/url\")\n",
        "\n",
        "if not os.path.exists(f\"{MAIN_OUTPUT_PATH}/removed/repetitive\"):\n",
        "    os.makedirs(f\"{MAIN_OUTPUT_PATH}/removed/repetitive\")\n",
        "\n",
        "if not os.path.exists(f\"{MAIN_OUTPUT_PATH}/removed/quality\"):\n",
        "    os.makedirs(f\"{MAIN_OUTPUT_PATH}/removed/quality\")\n",
        "\n",
        "if not os.path.exists(f\"{MAIN_OUTPUT_PATH}/removed/c4\"):\n",
        "    os.makedirs(f\"{MAIN_OUTPUT_PATH}/removed/c4\")\n",
        "\n",
        "if not os.path.exists(f\"{MAIN_OUTPUT_PATH}/removed/fineweb_qual\"):\n",
        "    os.makedirs(f\"{MAIN_OUTPUT_PATH}/removed/fineweb_qual\")"
      ]
    },
    {
      "cell_type": "code",
      "execution_count": null,
      "metadata": {
        "id": "1C7YcZnmrfQV"
      },
      "outputs": [],
      "source": [
        "pipeline=[\n",
        "        get_data(),\n",
        "        URLFilter(exclusion_writer=JsonlWriter(f\"{MAIN_OUTPUT_PATH}/removed/url\")),\n",
        "        GopherRepetitionFilter(\n",
        "            exclusion_writer=JsonlWriter(f\"{MAIN_OUTPUT_PATH}/removed/repetitive\")\n",
        "            ),\n",
        "        GopherQualityFilter(\n",
        "            exclusion_writer=JsonlWriter(f\"{MAIN_OUTPUT_PATH}/removed/quality\")\n",
        "            ),\n",
        "         C4QualityFilter(\n",
        "            filter_no_terminal_punct=False,\n",
        "            exclusion_writer=JsonlWriter(f\"{MAIN_OUTPUT_PATH}/removed/c4\"),\n",
        "        ),\n",
        "        FineWebQualityFilter(\n",
        "            exclusion_writer=JsonlWriter(f\"{MAIN_OUTPUT_PATH}/removed/fineweb_qual\")\n",
        "        ),\n",
        "        TokensCounter(),\n",
        "        JsonlWriter(f\"{MAIN_OUTPUT_PATH}\"),\n",
        "        #Jr(f\"{MAIN_OUTPUT_PATH}\"),\n",
        "    ]"
      ]
    },
    {
      "cell_type": "code",
      "execution_count": null,
      "metadata": {
        "id": "-0UqCH93sVSi"
      },
      "outputs": [],
      "source": [
        "from datatrove.executor import LocalPipelineExecutor\n",
        "executor = LocalPipelineExecutor(\n",
        "    pipeline=pipeline,\n",
        "    logging_dir=\"main_logs\",\n",
        "    #tasks=10,\n",
        "    #workers=5,\n",
        ")"
      ]
    },
    {
      "cell_type": "code",
      "execution_count": null,
      "metadata": {
        "colab": {
          "base_uri": "https://localhost:8080/",
          "height": 1000,
          "referenced_widgets": [
            "fa35f1a90e5b46efa2b4353d0b686fcd",
            "cb8580b31c3f4eef8a1198790355d4ca",
            "765b337caa8e4af3922306b2f3b81e8d",
            "28b86c676dee42b08326a9e74296bc2b",
            "51daea388d7d44308192bb59362aadae",
            "5c207472d5684e1cacb841ed50f7d3b7",
            "f09119d1027d4e8db50e6103ed1a1b70",
            "d3fbfa0bc2c04c0d9962e9f51cef6415",
            "b3c3f67d71634600acacc3b37472162b",
            "fe182df2339840a3966439a8a6cab6c2",
            "dd0d2af1160f4eb09fcb1464b849184e"
          ]
        },
        "id": "bqXhcLxYsWqC",
        "outputId": "6936d02c-a9c7-4d58-9389-3bbdbdd6776a"
      },
      "outputs": [
        {
          "metadata": {
            "tags": null
          },
          "name": "stderr",
          "output_type": "stream",
          "text": [
            "\u001b[32m2024-10-03 09:58:43.866\u001b[0m | \u001b[1mINFO    \u001b[0m | \u001b[36mdatatrove.utils.logging\u001b[0m:\u001b[36madd_task_logger\u001b[0m:\u001b[36m58\u001b[0m - \u001b[1mLaunching pipeline for rank=0\u001b[0m\n",
            "\u001b[32m2024-10-03 09:58:43.874\u001b[0m | \u001b[1mINFO    \u001b[0m | \u001b[36mdatatrove.utils.logging\u001b[0m:\u001b[36mlog_pipeline\u001b[0m:\u001b[36m90\u001b[0m - \u001b[1m\n",
            "--- 🛠️ PIPELINE 🛠\n",
            "Iterable\n",
            "🔻 - FILTER: 😈 Url-filter\n",
            "🔻 - FILTER: 👯 Gopher Repetition\n",
            "🔻 - FILTER: 🥇 Gopher Quality\n",
            "🔻 - FILTER: ⛰ C4 Quality\n",
            "🔻 - FILTER: 🍷 FineWeb Quality\n",
            "🔢 - TOKENIZER: 📊 Counter\n",
            "💽 - WRITER: 🐿 Jsonl\u001b[0m\n",
            "\u001b[32m2024-10-03 09:58:43.893\u001b[0m | \u001b[1mINFO    \u001b[0m | \u001b[36mdatatrove.pipeline.filters.url_filter\u001b[0m:\u001b[36mdo_extract\u001b[0m:\u001b[36m87\u001b[0m - \u001b[1m💥 Extracting url filter blacklists...\u001b[0m\n",
            "\u001b[32m2024-10-03 09:58:45.291\u001b[0m | \u001b[1mINFO    \u001b[0m | \u001b[36mdatatrove.pipeline.filters.url_filter\u001b[0m:\u001b[36mdo_extract\u001b[0m:\u001b[36m90\u001b[0m - \u001b[1m💥 Extracted url filter blacklists.\u001b[0m\n",
            "/usr/local/lib/python3.10/dist-packages/huggingface_hub/utils/_token.py:99: UserWarning: \n",
            "Error while fetching `HF_TOKEN` secret value from your vault: 'Requesting secret HF_TOKEN timed out. Secrets can only be fetched when running from the Colab UI.'.\n",
            "You are not authenticated with the Hugging Face Hub in this notebook.\n",
            "If the error persists, please let us know by opening an issue on GitHub (https://github.com/huggingface/huggingface_hub/issues/new).\n",
            "  warnings.warn(\n"
          ]
        },
        {
          "data": {
            "application/vnd.jupyter.widget-view+json": {
              "model_id": "fa35f1a90e5b46efa2b4353d0b686fcd",
              "version_major": 2,
              "version_minor": 0
            },
            "text/plain": [
              "tokenizer.json:   0%|          | 0.00/1.36M [00:00<?, ?B/s]"
            ]
          },
          "metadata": {},
          "output_type": "display_data"
        },
        {
          "output_type": "stream",
          "name": "stderr",
          "text": [
            "\u001b[32m2024-10-03 13:08:27.861\u001b[0m | \u001b[32m\u001b[1mSUCCESS \u001b[0m | \u001b[36mdatatrove.executor.base\u001b[0m:\u001b[36m_run_for_rank\u001b[0m:\u001b[36m98\u001b[0m - \u001b[32m\u001b[1mProcessing done for rank=0\u001b[0m\n",
            "\u001b[32m2024-10-03 13:08:27.950\u001b[0m | \u001b[1mINFO    \u001b[0m | \u001b[36mdatatrove.executor.base\u001b[0m:\u001b[36m_run_for_rank\u001b[0m:\u001b[36m104\u001b[0m - \u001b[1m\n",
            "\n",
            "📉📉📉 Stats: Task 0 📉📉📉\n",
            "\n",
            "Total Runtime: 3 hours, 6 minutes and 51 seconds\n",
            "\n",
            "🔻 - FILTER: 😈 Url-filter\n",
            "    Runtime: (0.73%) 1 minute and 22 seconds [0.23 milliseconds±14.08 milliseconds/doc]\n",
            "    Stats: {total: 350095, forwarded: 349281, doc_len: 1398798842 [min=1, max=5852385, 4004.80±17662/doc], dropped: 814, dropped_domain: 344, dropped_hard_blacklisted: 225, dropped_soft_blacklisted: 124, dropped_blacklisted_subword: 117, dropped_subdomain: 4}\n",
            "🔻 - FILTER: 👯 Gopher Repetition\n",
            "    Runtime: (41.96%) 1 hour, 18 minutes and 24 seconds [13.47 milliseconds±59.94 milliseconds/doc]\n",
            "    Stats: {total: 349281, forwarded: 322684, doc_len: 1268143258 [min=1, max=3351750, 3929.98±12350/doc], dropped: 26597, dropped_top_2_gram: 2549, dropped_duplicated_5_n_grams: 5206, dropped_top_4_gram: 2701, dropped_dup_line_frac: 9128, dropped_dup_line_char_frac: 2247, dropped_duplicated_6_n_grams: 416, dropped_duplicated_10_n_grams: 638, dropped_top_3_gram: 2390, dropped_duplicated_7_n_grams: 380, dropped_duplicated_9_n_grams: 493, dropped_duplicated_8_n_grams: 449}\n",
            "🔻 - FILTER: 🥇 Gopher Quality\n",
            "    Runtime: (24.43%) 45 minutes and 38 seconds [8.49 milliseconds±23.05 milliseconds/doc]\n",
            "    Stats: {total: 322684, forwarded: 294056, doc_len: 1164505204 [min=246, max=496666, 3960.15±6404/doc], dropped: 28628, dropped_gopher_below_alpha_threshold: 16638, dropped_gopher_enough_stop_words: 1254, dropped_gopher_short_doc: 6581, dropped_gopher_too_many_bullets: 411, dropped_gopher_too_many_end_ellipsis: 3359, dropped_gopher_above_avg_threshold: 271, dropped_gopher_below_avg_threshold: 21, dropped_gopher_too_many_hashes: 44, dropped_gopher_too_many_ellipsis: 38, dropped_gopher_long_doc: 11}\n",
            "🔻 - FILTER: ⛰ C4 Quality\n",
            "    Runtime: (5.49%) 10 minutes and 15 seconds [2.09 milliseconds±3.54 milliseconds/doc]\n",
            "    Stats: {line-total: 6757739, line-kept: 6227741, line-filter-too_few_words: 522125, total: 294056, forwarded: 286194, doc_len: 1140237976 [min=82, max=495677, 3984.14±6070/doc], dropped: 7862, dropped_too_few_sentences: 7117, line-filter-javascript: 1815, line-filter-policy: 5311, dropped_curly_bracket: 679, dropped_lorem_ipsum: 66, line-filter-too_long_word: 2}\n",
            "🔻 - FILTER: 🍷 FineWeb Quality\n",
            "    Runtime: (16.45%) 30 minutes and 44 seconds [6.45 milliseconds±10.46 milliseconds/doc]\n",
            "    Stats: {total: 286194, forwarded: 270137, doc_len: 1049621350 [min=149, max=495677, 3885.51±5638/doc], dropped: 16057, dropped_char_dup_ratio: 12278, dropped_line_punct_ratio: 3497, dropped_short_line_ratio: 282}\n",
            "🔢 - TOKENIZER: 📊 Counter\n",
            "    Runtime: (9.48%) 17 minutes and 43 seconds [37 seconds and 966.74 milliseconds±8 seconds and 167.36 milliseconds/batch]\n",
            "    Stats: {tokens: 232417154 [min=38, max=116093, 860.37±1273/doc]}\n",
            "💽 - WRITER: 🐿 Jsonl\n",
            "    Runtime: (1.45%) 2 minutes and 43 seconds [0.60 milliseconds±0.91 milliseconds/doc]\n",
            "    Stats: {XXXXX.jsonl.gz: 270137, total: 270137, doc_len: 1049621350 [min=149, max=495677, 3885.51±5638/doc], doc_len_tokens: 232417154 [min=38, max=116093, 860.37±1273/doc]}\u001b[0m\n",
            "\u001b[32m2024-10-03 13:08:27.999\u001b[0m | \u001b[32m\u001b[1mSUCCESS \u001b[0m | \u001b[36mdatatrove.executor.local\u001b[0m:\u001b[36mrun\u001b[0m:\u001b[36m148\u001b[0m - \u001b[32m\u001b[1m\n",
            "\n",
            "📉📉📉 Stats: All 1 tasks 📉📉📉\n",
            "\n",
            "Total Runtime: 3 hours, 6 minutes and 51 seconds\n",
            "\n",
            "🔻 - FILTER: 😈 Url-filter\n",
            "    Runtime: (0.73%) 1 minute and 22 seconds [0.23 milliseconds±14.08 milliseconds/doc]\n",
            "    Stats: {total: 350095, forwarded: 349281, doc_len: 1398798842 [min=1, max=5852385, 4004.80±17662/doc], dropped: 814, dropped_domain: 344, dropped_hard_blacklisted: 225, dropped_soft_blacklisted: 124, dropped_blacklisted_subword: 117, dropped_subdomain: 4}\n",
            "🔻 - FILTER: 👯 Gopher Repetition\n",
            "    Runtime: (41.96%) 1 hour, 18 minutes and 24 seconds [13.47 milliseconds±59.94 milliseconds/doc]\n",
            "    Stats: {total: 349281, forwarded: 322684, doc_len: 1268143258 [min=1, max=3351750, 3929.98±12350/doc], dropped: 26597, dropped_top_2_gram: 2549, dropped_duplicated_5_n_grams: 5206, dropped_top_4_gram: 2701, dropped_dup_line_frac: 9128, dropped_dup_line_char_frac: 2247, dropped_duplicated_6_n_grams: 416, dropped_duplicated_10_n_grams: 638, dropped_top_3_gram: 2390, dropped_duplicated_7_n_grams: 380, dropped_duplicated_9_n_grams: 493, dropped_duplicated_8_n_grams: 449}\n",
            "🔻 - FILTER: 🥇 Gopher Quality\n",
            "    Runtime: (24.43%) 45 minutes and 38 seconds [8.49 milliseconds±23.05 milliseconds/doc]\n",
            "    Stats: {total: 322684, forwarded: 294056, doc_len: 1164505204 [min=246, max=496666, 3960.15±6404/doc], dropped: 28628, dropped_gopher_below_alpha_threshold: 16638, dropped_gopher_enough_stop_words: 1254, dropped_gopher_short_doc: 6581, dropped_gopher_too_many_bullets: 411, dropped_gopher_too_many_end_ellipsis: 3359, dropped_gopher_above_avg_threshold: 271, dropped_gopher_below_avg_threshold: 21, dropped_gopher_too_many_hashes: 44, dropped_gopher_too_many_ellipsis: 38, dropped_gopher_long_doc: 11}\n",
            "🔻 - FILTER: ⛰ C4 Quality\n",
            "    Runtime: (5.49%) 10 minutes and 15 seconds [2.09 milliseconds±3.54 milliseconds/doc]\n",
            "    Stats: {line-total: 6757739, line-kept: 6227741, line-filter-too_few_words: 522125, total: 294056, forwarded: 286194, doc_len: 1140237976 [min=82, max=495677, 3984.14±6070/doc], dropped: 7862, dropped_too_few_sentences: 7117, line-filter-javascript: 1815, line-filter-policy: 5311, dropped_curly_bracket: 679, dropped_lorem_ipsum: 66, line-filter-too_long_word: 2}\n",
            "🔻 - FILTER: 🍷 FineWeb Quality\n",
            "    Runtime: (16.45%) 30 minutes and 44 seconds [6.45 milliseconds±10.46 milliseconds/doc]\n",
            "    Stats: {total: 286194, forwarded: 270137, doc_len: 1049621350 [min=149, max=495677, 3885.51±5638/doc], dropped: 16057, dropped_char_dup_ratio: 12278, dropped_line_punct_ratio: 3497, dropped_short_line_ratio: 282}\n",
            "🔢 - TOKENIZER: 📊 Counter\n",
            "    Runtime: (9.48%) 17 minutes and 43 seconds [37 seconds and 966.74 milliseconds±8 seconds and 167.36 milliseconds/batch]\n",
            "    Stats: {tokens: 232417154 [min=38, max=116093, 860.37±1273/doc]}\n",
            "💽 - WRITER: 🐿 Jsonl\n",
            "    Runtime: (1.45%) 2 minutes and 43 seconds [0.60 milliseconds±0.91 milliseconds/doc]\n",
            "    Stats: {XXXXX.jsonl.gz: 270137, total: 270137, doc_len: 1049621350 [min=149, max=495677, 3885.51±5638/doc], doc_len_tokens: 232417154 [min=38, max=116093, 860.37±1273/doc]}\u001b[0m\n"
          ]
        },
        {
          "output_type": "execute_result",
          "data": {
            "text/plain": [
              "\n",
              "\n",
              "📉📉📉 Stats 📉📉📉\n",
              "\n",
              "Total Runtime: 3 hours, 6 minutes and 51 seconds\n",
              "\n",
              "🔻 - FILTER: 😈 Url-filter\n",
              "    Runtime: (0.73%) 1 minute and 22 seconds [0.23 milliseconds±14.08 milliseconds/doc]\n",
              "    Stats: {total: 350095, forwarded: 349281, doc_len: 1398798842 [min=1, max=5852385, 4004.80±17662/doc], dropped: 814, dropped_domain: 344, dropped_hard_blacklisted: 225, dropped_soft_blacklisted: 124, dropped_blacklisted_subword: 117, dropped_subdomain: 4}\n",
              "🔻 - FILTER: 👯 Gopher Repetition\n",
              "    Runtime: (41.96%) 1 hour, 18 minutes and 24 seconds [13.47 milliseconds±59.94 milliseconds/doc]\n",
              "    Stats: {total: 349281, forwarded: 322684, doc_len: 1268143258 [min=1, max=3351750, 3929.98±12350/doc], dropped: 26597, dropped_top_2_gram: 2549, dropped_duplicated_5_n_grams: 5206, dropped_top_4_gram: 2701, dropped_dup_line_frac: 9128, dropped_dup_line_char_frac: 2247, dropped_duplicated_6_n_grams: 416, dropped_duplicated_10_n_grams: 638, dropped_top_3_gram: 2390, dropped_duplicated_7_n_grams: 380, dropped_duplicated_9_n_grams: 493, dropped_duplicated_8_n_grams: 449}\n",
              "🔻 - FILTER: 🥇 Gopher Quality\n",
              "    Runtime: (24.43%) 45 minutes and 38 seconds [8.49 milliseconds±23.05 milliseconds/doc]\n",
              "    Stats: {total: 322684, forwarded: 294056, doc_len: 1164505204 [min=246, max=496666, 3960.15±6404/doc], dropped: 28628, dropped_gopher_below_alpha_threshold: 16638, dropped_gopher_enough_stop_words: 1254, dropped_gopher_short_doc: 6581, dropped_gopher_too_many_bullets: 411, dropped_gopher_too_many_end_ellipsis: 3359, dropped_gopher_above_avg_threshold: 271, dropped_gopher_below_avg_threshold: 21, dropped_gopher_too_many_hashes: 44, dropped_gopher_too_many_ellipsis: 38, dropped_gopher_long_doc: 11}\n",
              "🔻 - FILTER: ⛰ C4 Quality\n",
              "    Runtime: (5.49%) 10 minutes and 15 seconds [2.09 milliseconds±3.54 milliseconds/doc]\n",
              "    Stats: {line-total: 6757739, line-kept: 6227741, line-filter-too_few_words: 522125, total: 294056, forwarded: 286194, doc_len: 1140237976 [min=82, max=495677, 3984.14±6070/doc], dropped: 7862, dropped_too_few_sentences: 7117, line-filter-javascript: 1815, line-filter-policy: 5311, dropped_curly_bracket: 679, dropped_lorem_ipsum: 66, line-filter-too_long_word: 2}\n",
              "🔻 - FILTER: 🍷 FineWeb Quality\n",
              "    Runtime: (16.45%) 30 minutes and 44 seconds [6.45 milliseconds±10.46 milliseconds/doc]\n",
              "    Stats: {total: 286194, forwarded: 270137, doc_len: 1049621350 [min=149, max=495677, 3885.51±5638/doc], dropped: 16057, dropped_char_dup_ratio: 12278, dropped_line_punct_ratio: 3497, dropped_short_line_ratio: 282}\n",
              "🔢 - TOKENIZER: 📊 Counter\n",
              "    Runtime: (9.48%) 17 minutes and 43 seconds [37 seconds and 966.74 milliseconds±8 seconds and 167.36 milliseconds/batch]\n",
              "    Stats: {tokens: 232417154 [min=38, max=116093, 860.37±1273/doc]}\n",
              "💽 - WRITER: 🐿 Jsonl\n",
              "    Runtime: (1.45%) 2 minutes and 43 seconds [0.60 milliseconds±0.91 milliseconds/doc]\n",
              "    Stats: {XXXXX.jsonl.gz: 270137, total: 270137, doc_len: 1049621350 [min=149, max=495677, 3885.51±5638/doc], doc_len_tokens: 232417154 [min=38, max=116093, 860.37±1273/doc]}"
            ]
          },
          "metadata": {},
          "execution_count": 26
        }
      ],
      "source": [
        "executor.run()"
      ]
    }
  ],
  "metadata": {
    "colab": {
      "provenance": [],
      "include_colab_link": true
    },
    "kernelspec": {
      "display_name": "Python 3",
      "name": "python3"
    },
    "language_info": {
      "name": "python"
    },
    "widgets": {
      "application/vnd.jupyter.widget-state+json": {
        "28b86c676dee42b08326a9e74296bc2b": {
          "model_module": "@jupyter-widgets/controls",
          "model_module_version": "1.5.0",
          "model_name": "HTMLModel",
          "state": {
            "_dom_classes": [],
            "_model_module": "@jupyter-widgets/controls",
            "_model_module_version": "1.5.0",
            "_model_name": "HTMLModel",
            "_view_count": null,
            "_view_module": "@jupyter-widgets/controls",
            "_view_module_version": "1.5.0",
            "_view_name": "HTMLView",
            "description": "",
            "description_tooltip": null,
            "layout": "IPY_MODEL_fe182df2339840a3966439a8a6cab6c2",
            "placeholder": "​",
            "style": "IPY_MODEL_dd0d2af1160f4eb09fcb1464b849184e",
            "value": " 1.36M/1.36M [00:00&lt;00:00, 6.82MB/s]"
          }
        },
        "51daea388d7d44308192bb59362aadae": {
          "model_module": "@jupyter-widgets/base",
          "model_module_version": "1.2.0",
          "model_name": "LayoutModel",
          "state": {
            "_model_module": "@jupyter-widgets/base",
            "_model_module_version": "1.2.0",
            "_model_name": "LayoutModel",
            "_view_count": null,
            "_view_module": "@jupyter-widgets/base",
            "_view_module_version": "1.2.0",
            "_view_name": "LayoutView",
            "align_content": null,
            "align_items": null,
            "align_self": null,
            "border": null,
            "bottom": null,
            "display": null,
            "flex": null,
            "flex_flow": null,
            "grid_area": null,
            "grid_auto_columns": null,
            "grid_auto_flow": null,
            "grid_auto_rows": null,
            "grid_column": null,
            "grid_gap": null,
            "grid_row": null,
            "grid_template_areas": null,
            "grid_template_columns": null,
            "grid_template_rows": null,
            "height": null,
            "justify_content": null,
            "justify_items": null,
            "left": null,
            "margin": null,
            "max_height": null,
            "max_width": null,
            "min_height": null,
            "min_width": null,
            "object_fit": null,
            "object_position": null,
            "order": null,
            "overflow": null,
            "overflow_x": null,
            "overflow_y": null,
            "padding": null,
            "right": null,
            "top": null,
            "visibility": null,
            "width": null
          }
        },
        "5c207472d5684e1cacb841ed50f7d3b7": {
          "model_module": "@jupyter-widgets/base",
          "model_module_version": "1.2.0",
          "model_name": "LayoutModel",
          "state": {
            "_model_module": "@jupyter-widgets/base",
            "_model_module_version": "1.2.0",
            "_model_name": "LayoutModel",
            "_view_count": null,
            "_view_module": "@jupyter-widgets/base",
            "_view_module_version": "1.2.0",
            "_view_name": "LayoutView",
            "align_content": null,
            "align_items": null,
            "align_self": null,
            "border": null,
            "bottom": null,
            "display": null,
            "flex": null,
            "flex_flow": null,
            "grid_area": null,
            "grid_auto_columns": null,
            "grid_auto_flow": null,
            "grid_auto_rows": null,
            "grid_column": null,
            "grid_gap": null,
            "grid_row": null,
            "grid_template_areas": null,
            "grid_template_columns": null,
            "grid_template_rows": null,
            "height": null,
            "justify_content": null,
            "justify_items": null,
            "left": null,
            "margin": null,
            "max_height": null,
            "max_width": null,
            "min_height": null,
            "min_width": null,
            "object_fit": null,
            "object_position": null,
            "order": null,
            "overflow": null,
            "overflow_x": null,
            "overflow_y": null,
            "padding": null,
            "right": null,
            "top": null,
            "visibility": null,
            "width": null
          }
        },
        "765b337caa8e4af3922306b2f3b81e8d": {
          "model_module": "@jupyter-widgets/controls",
          "model_module_version": "1.5.0",
          "model_name": "FloatProgressModel",
          "state": {
            "_dom_classes": [],
            "_model_module": "@jupyter-widgets/controls",
            "_model_module_version": "1.5.0",
            "_model_name": "FloatProgressModel",
            "_view_count": null,
            "_view_module": "@jupyter-widgets/controls",
            "_view_module_version": "1.5.0",
            "_view_name": "ProgressView",
            "bar_style": "success",
            "description": "",
            "description_tooltip": null,
            "layout": "IPY_MODEL_d3fbfa0bc2c04c0d9962e9f51cef6415",
            "max": 1355256,
            "min": 0,
            "orientation": "horizontal",
            "style": "IPY_MODEL_b3c3f67d71634600acacc3b37472162b",
            "value": 1355256
          }
        },
        "b3c3f67d71634600acacc3b37472162b": {
          "model_module": "@jupyter-widgets/controls",
          "model_module_version": "1.5.0",
          "model_name": "ProgressStyleModel",
          "state": {
            "_model_module": "@jupyter-widgets/controls",
            "_model_module_version": "1.5.0",
            "_model_name": "ProgressStyleModel",
            "_view_count": null,
            "_view_module": "@jupyter-widgets/base",
            "_view_module_version": "1.2.0",
            "_view_name": "StyleView",
            "bar_color": null,
            "description_width": ""
          }
        },
        "cb8580b31c3f4eef8a1198790355d4ca": {
          "model_module": "@jupyter-widgets/controls",
          "model_module_version": "1.5.0",
          "model_name": "HTMLModel",
          "state": {
            "_dom_classes": [],
            "_model_module": "@jupyter-widgets/controls",
            "_model_module_version": "1.5.0",
            "_model_name": "HTMLModel",
            "_view_count": null,
            "_view_module": "@jupyter-widgets/controls",
            "_view_module_version": "1.5.0",
            "_view_name": "HTMLView",
            "description": "",
            "description_tooltip": null,
            "layout": "IPY_MODEL_5c207472d5684e1cacb841ed50f7d3b7",
            "placeholder": "​",
            "style": "IPY_MODEL_f09119d1027d4e8db50e6103ed1a1b70",
            "value": "tokenizer.json: 100%"
          }
        },
        "d3fbfa0bc2c04c0d9962e9f51cef6415": {
          "model_module": "@jupyter-widgets/base",
          "model_module_version": "1.2.0",
          "model_name": "LayoutModel",
          "state": {
            "_model_module": "@jupyter-widgets/base",
            "_model_module_version": "1.2.0",
            "_model_name": "LayoutModel",
            "_view_count": null,
            "_view_module": "@jupyter-widgets/base",
            "_view_module_version": "1.2.0",
            "_view_name": "LayoutView",
            "align_content": null,
            "align_items": null,
            "align_self": null,
            "border": null,
            "bottom": null,
            "display": null,
            "flex": null,
            "flex_flow": null,
            "grid_area": null,
            "grid_auto_columns": null,
            "grid_auto_flow": null,
            "grid_auto_rows": null,
            "grid_column": null,
            "grid_gap": null,
            "grid_row": null,
            "grid_template_areas": null,
            "grid_template_columns": null,
            "grid_template_rows": null,
            "height": null,
            "justify_content": null,
            "justify_items": null,
            "left": null,
            "margin": null,
            "max_height": null,
            "max_width": null,
            "min_height": null,
            "min_width": null,
            "object_fit": null,
            "object_position": null,
            "order": null,
            "overflow": null,
            "overflow_x": null,
            "overflow_y": null,
            "padding": null,
            "right": null,
            "top": null,
            "visibility": null,
            "width": null
          }
        },
        "dd0d2af1160f4eb09fcb1464b849184e": {
          "model_module": "@jupyter-widgets/controls",
          "model_module_version": "1.5.0",
          "model_name": "DescriptionStyleModel",
          "state": {
            "_model_module": "@jupyter-widgets/controls",
            "_model_module_version": "1.5.0",
            "_model_name": "DescriptionStyleModel",
            "_view_count": null,
            "_view_module": "@jupyter-widgets/base",
            "_view_module_version": "1.2.0",
            "_view_name": "StyleView",
            "description_width": ""
          }
        },
        "f09119d1027d4e8db50e6103ed1a1b70": {
          "model_module": "@jupyter-widgets/controls",
          "model_module_version": "1.5.0",
          "model_name": "DescriptionStyleModel",
          "state": {
            "_model_module": "@jupyter-widgets/controls",
            "_model_module_version": "1.5.0",
            "_model_name": "DescriptionStyleModel",
            "_view_count": null,
            "_view_module": "@jupyter-widgets/base",
            "_view_module_version": "1.2.0",
            "_view_name": "StyleView",
            "description_width": ""
          }
        },
        "fa35f1a90e5b46efa2b4353d0b686fcd": {
          "model_module": "@jupyter-widgets/controls",
          "model_module_version": "1.5.0",
          "model_name": "HBoxModel",
          "state": {
            "_dom_classes": [],
            "_model_module": "@jupyter-widgets/controls",
            "_model_module_version": "1.5.0",
            "_model_name": "HBoxModel",
            "_view_count": null,
            "_view_module": "@jupyter-widgets/controls",
            "_view_module_version": "1.5.0",
            "_view_name": "HBoxView",
            "box_style": "",
            "children": [
              "IPY_MODEL_cb8580b31c3f4eef8a1198790355d4ca",
              "IPY_MODEL_765b337caa8e4af3922306b2f3b81e8d",
              "IPY_MODEL_28b86c676dee42b08326a9e74296bc2b"
            ],
            "layout": "IPY_MODEL_51daea388d7d44308192bb59362aadae"
          }
        },
        "fe182df2339840a3966439a8a6cab6c2": {
          "model_module": "@jupyter-widgets/base",
          "model_module_version": "1.2.0",
          "model_name": "LayoutModel",
          "state": {
            "_model_module": "@jupyter-widgets/base",
            "_model_module_version": "1.2.0",
            "_model_name": "LayoutModel",
            "_view_count": null,
            "_view_module": "@jupyter-widgets/base",
            "_view_module_version": "1.2.0",
            "_view_name": "LayoutView",
            "align_content": null,
            "align_items": null,
            "align_self": null,
            "border": null,
            "bottom": null,
            "display": null,
            "flex": null,
            "flex_flow": null,
            "grid_area": null,
            "grid_auto_columns": null,
            "grid_auto_flow": null,
            "grid_auto_rows": null,
            "grid_column": null,
            "grid_gap": null,
            "grid_row": null,
            "grid_template_areas": null,
            "grid_template_columns": null,
            "grid_template_rows": null,
            "height": null,
            "justify_content": null,
            "justify_items": null,
            "left": null,
            "margin": null,
            "max_height": null,
            "max_width": null,
            "min_height": null,
            "min_width": null,
            "object_fit": null,
            "object_position": null,
            "order": null,
            "overflow": null,
            "overflow_x": null,
            "overflow_y": null,
            "padding": null,
            "right": null,
            "top": null,
            "visibility": null,
            "width": null
          }
        }
      }
    }
  },
  "nbformat": 4,
  "nbformat_minor": 0
}